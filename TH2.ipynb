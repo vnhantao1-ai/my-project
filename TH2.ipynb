{
 "cells": [
  {
   "cell_type": "code",
   "execution_count": 2,
   "id": "d543dc3c-538f-41ee-ada3-e06f7fb85d2b",
   "metadata": {},
   "outputs": [
    {
     "name": "stdin",
     "output_type": "stream",
     "text": [
      " 8\n"
     ]
    },
    {
     "name": "stdout",
     "output_type": "stream",
     "text": [
      "16\n"
     ]
    }
   ],
   "source": [
    "n = int(input())\n",
    "print(n*2)"
   ]
  },
  {
   "cell_type": "code",
   "execution_count": 7,
   "id": "53574a47-0a11-4422-9f40-5d897753fc2d",
   "metadata": {},
   "outputs": [
    {
     "name": "stdin",
     "output_type": "stream",
     "text": [
      " 4\n",
      " 8\n"
     ]
    },
    {
     "name": "stdout",
     "output_type": "stream",
     "text": [
      "19.44\n"
     ]
    }
   ],
   "source": [
    "a = int(input())\n",
    "b = int(input())\n",
    "planting_area = round(a*b-3.14*(a/2)**2, 2)\n",
    "print(planting_area)"
   ]
  },
  {
   "cell_type": "code",
   "execution_count": 11,
   "id": "5344a0c7-38c7-4b8c-9c83-2e102996086d",
   "metadata": {},
   "outputs": [
    {
     "name": "stdin",
     "output_type": "stream",
     "text": [
      " k\n"
     ]
    },
    {
     "name": "stdout",
     "output_type": "stream",
     "text": [
      "K\n"
     ]
    }
   ],
   "source": [
    "c = input()\n",
    "if 'A' <= c <= 'Z':       \n",
    "    print(c.lower())\n",
    "else:     \n",
    "    print(c.upper())"
   ]
  },
  {
   "cell_type": "code",
   "execution_count": 12,
   "id": "52668efb-070f-416c-8e6d-03e65fcbf228",
   "metadata": {},
   "outputs": [
    {
     "name": "stdin",
     "output_type": "stream",
     "text": [
      " 9\n"
     ]
    },
    {
     "name": "stdout",
     "output_type": "stream",
     "text": [
      "9 không phải là kí tự alphabet\n"
     ]
    }
   ],
   "source": [
    "c = input()\n",
    "if 'A' <= c <= 'Z' or 'a' <= c <= 'z':\n",
    "    print(f\"{c} là kí tự alphabet\")\n",
    "else:\n",
    "    print(f\"{c} không phải là kí tự alphabet\")"
   ]
  },
  {
   "cell_type": "code",
   "execution_count": 13,
   "id": "05e59eb7-aa7a-417d-bb2b-0db19c26fd9b",
   "metadata": {},
   "outputs": [
    {
     "name": "stdin",
     "output_type": "stream",
     "text": [
      " H\n"
     ]
    },
    {
     "name": "stdout",
     "output_type": "stream",
     "text": [
      "Kết quả: g\n"
     ]
    }
   ],
   "source": [
    "c = input()\n",
    "if c == 'A':\n",
    "    print()\n",
    "else:\n",
    "    lower_char = chr(ord(c.lower()) - 1)\n",
    "    print(f\"Kết quả: {lower_char}\")"
   ]
  },
  {
   "cell_type": "code",
   "execution_count": 14,
   "id": "d5484e7d-863d-4ae7-8553-b8d6c63751dc",
   "metadata": {},
   "outputs": [
    {
     "name": "stdin",
     "output_type": "stream",
     "text": [
      " 6 7 8\n"
     ]
    },
    {
     "name": "stdout",
     "output_type": "stream",
     "text": [
      "Diện tích tam giác: 20.3\n"
     ]
    }
   ],
   "source": [
    "import math\n",
    "a, b, c = map(float, input().split())\n",
    "if a > 0 and b > 0 and c > 0 and (a + b > c) and (a + c > b) and (b + c > a):\n",
    "    p = (a + b + c) / 2\n",
    "    s = math.sqrt(p * (p - a) * (p - b) * (p - c))\n",
    "    print(f\"Diện tích tam giác: {s:.1f}\")\n",
    "else:\n",
    "    print(\"Khong phai 3 canh cua tam giac\")"
   ]
  },
  {
   "cell_type": "code",
   "execution_count": 15,
   "id": "99de1429-190f-484a-8730-daee5f37473f",
   "metadata": {},
   "outputs": [
    {
     "name": "stdin",
     "output_type": "stream",
     "text": [
      " hjkhjkhjhkdjsrgaerhgag\n"
     ]
    },
    {
     "name": "stdout",
     "output_type": "stream",
     "text": [
      "j\n",
      "h\n"
     ]
    }
   ],
   "source": [
    "s = input()\n",
    "if len(s) >= 20:\n",
    "    print(s[4])\n",
    "    print(s[8])\n",
    "else:\n",
    "    print()"
   ]
  },
  {
   "cell_type": "code",
   "execution_count": 16,
   "id": "328770e4-edc3-4f0a-a013-ee61634184e8",
   "metadata": {},
   "outputs": [
    {
     "name": "stdin",
     "output_type": "stream",
     "text": [
      " Pham Xuan Thai\n",
      " 1020\n",
      " 1070\n"
     ]
    },
    {
     "name": "stdout",
     "output_type": "stream",
     "text": [
      "Ho va ten: Pham Xuan Thai\n",
      "Tien phai tra la: 3664116\n"
     ]
    }
   ],
   "source": [
    "ten = input()\n",
    "chi_so_cu = int(input())\n",
    "chi_so_moi = int(input())\n",
    "kwh = chi_so_moi\n",
    "tien = 0\n",
    "\n",
    "if kwh <= 50:\n",
    "    tien = kwh * 1984\n",
    "elif kwh <= 100:\n",
    "    tien = 50 * 1984 + (kwh - 50) * 2050\n",
    "elif kwh <= 200:\n",
    "    tien = 50 * 1984 + 50 * 2050 + (kwh - 100) * 2380\n",
    "elif kwh <= 300:\n",
    "    tien = 50 * 1984 + 50 * 2050 + 100 * 2380 + (kwh - 200) * 2998\n",
    "elif kwh <= 400:\n",
    "    tien = 50 * 1984 + 50 * 2050 + 100 * 2380 + 100 * 2998 + (kwh - 300) * 3350\n",
    "else:\n",
    "    tien = (50 * 1984 + 50 * 2050 + 100 * 2380 + 100 * 2998 + 100 * 3350 + (kwh - 400) * 3460)\n",
    "\n",
    "tong_tien = int(round(tien * 1.08, 0))\n",
    "\n",
    "print(f\"Ho va ten: {ten}\")\n",
    "print(f\"Tien phai tra la: {tong_tien}\")"
   ]
  },
  {
   "cell_type": "code",
   "execution_count": 1,
   "id": "f785ca38-adb2-4db5-957d-35461f35bc42",
   "metadata": {},
   "outputs": [
    {
     "name": "stdin",
     "output_type": "stream",
     "text": [
      " 19\n"
     ]
    },
    {
     "name": "stdout",
     "output_type": "stream",
     "text": [
      "19 là số lẻ\n"
     ]
    }
   ],
   "source": [
    "n = int(input())\n",
    "if n % 2 == 0:\n",
    "    print(f\"{n} là số chẵn\")\n",
    "else:\n",
    "    print(f\"{n} là số lẻ\")"
   ]
  },
  {
   "cell_type": "code",
   "execution_count": 2,
   "id": "a53ef635-f146-4115-b63a-a515d5d9aa76",
   "metadata": {},
   "outputs": [
    {
     "name": "stdin",
     "output_type": "stream",
     "text": [
      "Nhập một số nguyên:  25\n"
     ]
    },
    {
     "name": "stdout",
     "output_type": "stream",
     "text": [
      "True\n"
     ]
    }
   ],
   "source": [
    "n = int(input(\"Nhập một số nguyên: \"))\n",
    "if n % 10 == 5 or n % 10 == -5:  \n",
    "    print(\"True\")\n",
    "else:\n",
    "    print(\"False\")"
   ]
  },
  {
   "cell_type": "code",
   "execution_count": 1,
   "id": "567e4c1e-107e-4fa1-babd-07e9d37cdbe3",
   "metadata": {},
   "outputs": [
    {
     "name": "stdin",
     "output_type": "stream",
     "text": [
      "Nhập một số nguyên:  29\n"
     ]
    },
    {
     "name": "stdout",
     "output_type": "stream",
     "text": [
      "False\n"
     ]
    }
   ],
   "source": [
    "n = int(input(\"Nhập một số nguyên: \"))\n",
    "if n % 3 == 0 and n % 5 == 0:\n",
    "    print(\"True\")\n",
    "else:\n",
    "    print(\"False\")"
   ]
  },
  {
   "cell_type": "code",
   "execution_count": 2,
   "id": "5f9ba819-2d59-4905-9b56-0d4866c5051e",
   "metadata": {},
   "outputs": [
    {
     "name": "stdin",
     "output_type": "stream",
     "text": [
      "Nhập năm sinh của bạn:  2007\n"
     ]
    },
    {
     "name": "stdout",
     "output_type": "stream",
     "text": [
      "Đủ điều kiện bầu cử\n"
     ]
    }
   ],
   "source": [
    "from datetime import date\n",
    "nam_hien_tai = date.today().year\n",
    "nam_sinh = int(input(\"Nhập năm sinh của bạn: \"))\n",
    "tuoi = nam_hien_tai - nam_sinh\n",
    "if tuoi >= 18:\n",
    "    print(\"Đủ điều kiện bầu cử\")\n",
    "else:\n",
    "    print(\"Chưa đủ điều kiện bầu cử\")"
   ]
  },
  {
   "cell_type": "code",
   "execution_count": 3,
   "id": "997eb9e4-2b42-4037-a0f2-4ed89549eb4d",
   "metadata": {},
   "outputs": [
    {
     "name": "stdin",
     "output_type": "stream",
     "text": [
      "Nhập 2 số:  5 6 \n"
     ]
    },
    {
     "name": "stdout",
     "output_type": "stream",
     "text": [
      "Số lớn hơn là: 6.0\n"
     ]
    }
   ],
   "source": [
    "a, b = map(float, input(\"Nhập 2 số: \").split())\n",
    "if a > b:\n",
    "    print(\"Số lớn hơn là:\", a)\n",
    "elif b > a:\n",
    "    print(\"Số lớn hơn là:\", b)\n",
    "else:\n",
    "    print(\"Hai số bằng nhau\")"
   ]
  },
  {
   "cell_type": "code",
   "execution_count": 4,
   "id": "acc53ba8-ece3-4182-8651-eb136ab2baa7",
   "metadata": {},
   "outputs": [
    {
     "name": "stdin",
     "output_type": "stream",
     "text": [
      "Nhập một ký tự:  K\n"
     ]
    },
    {
     "name": "stdout",
     "output_type": "stream",
     "text": [
      "K là chữ cái\n"
     ]
    }
   ],
   "source": [
    "c = input(\"Nhập một ký tự: \")\n",
    "if c.isalpha():     \n",
    "    print(f\"{c} là chữ cái\")\n",
    "elif c.isdigit():    \n",
    "    print(f\"{c} là chữ số\")\n",
    "else:\n",
    "    print(f\"{c} không phải là chữ cái hay chữ số\")"
   ]
  },
  {
   "cell_type": "code",
   "execution_count": 5,
   "id": "003e2cf9-6e8a-48d5-899b-8aae11a4ac0b",
   "metadata": {},
   "outputs": [
    {
     "name": "stdin",
     "output_type": "stream",
     "text": [
      "Nhập điểm (0-10):  7.6\n"
     ]
    },
    {
     "name": "stdout",
     "output_type": "stream",
     "text": [
      "Khá\n"
     ]
    }
   ],
   "source": [
    "diem = float(input(\"Nhập điểm 0-10: \"))\n",
    "if diem >= 8:\n",
    "    print(\"Giỏi\")\n",
    "elif diem >= 6.5:\n",
    "    print(\"Khá\")\n",
    "elif diem >= 5:\n",
    "    print(\"Trung bình\")\n",
    "else:\n",
    "    print(\"Yếu\")\n",
    "\n"
   ]
  },
  {
   "cell_type": "code",
   "execution_count": 6,
   "id": "81b56f1a-a41a-4b2f-8a38-2d6a9ba02d83",
   "metadata": {},
   "outputs": [
    {
     "name": "stdin",
     "output_type": "stream",
     "text": [
      "Nhập năm:  4000\n"
     ]
    },
    {
     "name": "stdout",
     "output_type": "stream",
     "text": [
      "4000 là năm nhuận\n"
     ]
    }
   ],
   "source": [
    "nam = int(input(\"Nhập năm: \"))\n",
    "\n",
    "if (nam % 400 == 0) or (nam % 4 == 0 and nam % 100 != 0):\n",
    "    print(f\"{nam} là năm nhuận\")\n",
    "else:\n",
    "    print(f\"{nam} không phải là năm nhuận\")"
   ]
  },
  {
   "cell_type": "code",
   "execution_count": 7,
   "id": "c533f573-3019-4a26-8676-2023b80bfd50",
   "metadata": {},
   "outputs": [
    {
     "name": "stdin",
     "output_type": "stream",
     "text": [
      "Nhập số (0-9):  8\n"
     ]
    },
    {
     "name": "stdout",
     "output_type": "stream",
     "text": [
      "Tám\n"
     ]
    }
   ],
   "source": [
    "n = int(input(\"Nhập số 0-9: \"))\n",
    "\n",
    "match n:\n",
    "    case 0:\n",
    "        print(\"Không\")\n",
    "    case 1:\n",
    "        print(\"Một\")\n",
    "    case 2:\n",
    "        print(\"Hai\")\n",
    "    case 3:\n",
    "        print(\"Ba\")\n",
    "    case 4:\n",
    "        print(\"Bốn\")\n",
    "    case 5:\n",
    "        print(\"Năm\")\n",
    "    case 6:\n",
    "        print(\"Sáu\")\n",
    "    case 7:\n",
    "        print(\"Bảy\")\n",
    "    case 8:\n",
    "        print(\"Tám\")\n",
    "    case 9:\n",
    "        print(\"Chín\")\n",
    "    case _:\n",
    "        print(\"Số không hợp lệ, phải từ 0 đến 9\")"
   ]
  },
  {
   "cell_type": "code",
   "execution_count": 8,
   "id": "2c1c4f9d-4f97-401e-a7b5-df44589c891a",
   "metadata": {},
   "outputs": [
    {
     "name": "stdin",
     "output_type": "stream",
     "text": [
      "Nhập điểm thi:  6\n"
     ]
    },
    {
     "name": "stdout",
     "output_type": "stream",
     "text": [
      "Qua môn\n"
     ]
    }
   ],
   "source": [
    "diem = float(input(\"Nhập điểm thi: \"))\n",
    "\n",
    "if diem >= 4:\n",
    "    print(\"Qua môn\")\n",
    "else:\n",
    "    print(\"Học lại\")"
   ]
  },
  {
   "cell_type": "code",
   "execution_count": 9,
   "id": "88705862-6a1a-46c2-a3fa-a9e9b3e97f89",
   "metadata": {},
   "outputs": [
    {
     "name": "stdin",
     "output_type": "stream",
     "text": [
      "Nhập năm sinh:  2025\n"
     ]
    },
    {
     "name": "stdout",
     "output_type": "stream",
     "text": [
      "Chưa đủ 18 tuổi\n"
     ]
    }
   ],
   "source": [
    "from datetime import date\n",
    "nam_hien_tai = date.today().year\n",
    "nam_sinh = int(input(\"Nhập năm sinh: \"))\n",
    "tuoi = nam_hien_tai - nam_sinh\n",
    "\n",
    "if tuoi >= 18:\n",
    "    print(\"Đủ 18 tuổi\")\n",
    "else:\n",
    "    print(\"Chưa đủ 18 tuổi\")"
   ]
  },
  {
   "cell_type": "code",
   "execution_count": null,
   "id": "031b0a29-af0a-4fec-9643-6420f5304057",
   "metadata": {},
   "outputs": [],
   "source": []
  }
 ],
 "metadata": {
  "kernelspec": {
   "display_name": "Python 3 (ipykernel)",
   "language": "python",
   "name": "python3"
  },
  "language_info": {
   "codemirror_mode": {
    "name": "ipython",
    "version": 3
   },
   "file_extension": ".py",
   "mimetype": "text/x-python",
   "name": "python",
   "nbconvert_exporter": "python",
   "pygments_lexer": "ipython3",
   "version": "3.13.7"
  }
 },
 "nbformat": 4,
 "nbformat_minor": 5
}
