{
 "cells": [
  {
   "cell_type": "code",
   "execution_count": 6,
   "id": "9b931c39-ae25-4448-83cd-d2b4c42bcb56",
   "metadata": {},
   "outputs": [
    {
     "name": "stdin",
     "output_type": "stream",
     "text": [
      " 3 4\n"
     ]
    },
    {
     "name": "stdout",
     "output_type": "stream",
     "text": [
      "12\n",
      "14\n"
     ]
    }
   ],
   "source": [
    "# Nhập vào 2 cạnh của một hình chữ nhật. In ra màn hình diện tích và chu vi của nó\n",
    "a, b = map(float, input().split())\n",
    "S = a*b\n",
    "p = (a+b)*2\n",
    "print(S, p, sep = \"\\n\")"
   ]
  },
  {
   "cell_type": "code",
   "execution_count": 10,
   "id": "9c42426f-a7ea-46cb-9745-74828875649b",
   "metadata": {},
   "outputs": [
    {
     "name": "stdin",
     "output_type": "stream",
     "text": [
      " 4\n"
     ]
    },
    {
     "name": "stdout",
     "output_type": "stream",
     "text": [
      "50.3\n",
      "25.1\n"
     ]
    }
   ],
   "source": [
    "# Nhập vào bán kính của hình tròn. In ra màn hình diện tích và chu vi của nó.\n",
    "import math\n",
    "r = float(input())\n",
    "S = math.pi*r**2\n",
    "P = 2*math.pi*r\n",
    "print(f\"{S:.1f}\\n{P:.1f}\")"
   ]
  },
  {
   "cell_type": "code",
   "execution_count": 18,
   "id": "84141f43-eb7f-460f-a6a6-08c95efbc4bc",
   "metadata": {},
   "outputs": [
    {
     "name": "stdin",
     "output_type": "stream",
     "text": [
      " 3 4 5 \n"
     ]
    },
    {
     "name": "stdout",
     "output_type": "stream",
     "text": [
      "Tam guac vuong\n"
     ]
    }
   ],
   "source": [
    "'''Tính tam giác: Nhâp vào ba số a,b,c bất kì. Kiểm tra xem nó có thể là \n",
    "độ dài ba cạnh hay không, nếu  không thì in  ra màn  hình  'Khong la ba  canh \n",
    "cua mot tam  giac'. Ngược lại, kiểm tra xem nó là tam giác gì: Đều, Cân, \n",
    "Vuông, hay Tam giác thường. Tính diện tích, chu vi của tam giác và in ra màn \n",
    "hình.'''\n",
    "a, b, c = map(float, input().split())\n",
    "if a+b>c or b+c>a or a+c>b:\n",
    "    if a==b==c:\n",
    "        print(\"Tam giac deu\")\n",
    "    elif a**2+b**2==c**2 or a**2+c**2==b**2 or b**2+c**2==a**2:\n",
    "        print(\"Tam guac vuong\")\n",
    "    elif a == b or a == c or b == c:\n",
    "        print(\"Tam giac can\")\n",
    "    else:\n",
    "        print(\"Tam giac thuong\")\n",
    "else:\n",
    "    print('Khong la ba  canh cua mot tam  giac')"
   ]
  },
  {
   "cell_type": "code",
   "execution_count": 22,
   "id": "dccda402-65f5-40af-892e-e4ce5593c270",
   "metadata": {},
   "outputs": [
    {
     "name": "stdin",
     "output_type": "stream",
     "text": [
      " 3 4\n"
     ]
    },
    {
     "name": "stdout",
     "output_type": "stream",
     "text": [
      "-1.3333333333333333\n"
     ]
    }
   ],
   "source": [
    "#Viết chương trình giải phương trình bậc 1 (ax + b = 0) \n",
    "a, b = map(float, input().split())\n",
    "x = -b/a\n",
    "if a == 0 and b == 0:\n",
    "    print(\"Phuong trinh vo so nghiem\")\n",
    "elif a == 0 and b != 0:\n",
    "    print(\"Phuong trinh vo nghiem\")\n",
    "else:\n",
    "    print(x)"
   ]
  },
  {
   "cell_type": "code",
   "execution_count": 26,
   "id": "f5ae1fd3-7bdb-4f9b-a7f1-d2fd4884707a",
   "metadata": {},
   "outputs": [
    {
     "name": "stdin",
     "output_type": "stream",
     "text": [
      " 3 4 5\n"
     ]
    },
    {
     "name": "stdout",
     "output_type": "stream",
     "text": [
      "Phuong trinh vo nghiem\n"
     ]
    }
   ],
   "source": [
    "#  Viết chương trình giải phương trình bậc 2 (ax2 + bx + c = 0) \n",
    "import math\n",
    "a, b, c = map(float, input().split())\n",
    "delta = b**2-4*a*c\n",
    "if delta>0:\n",
    "    x_1 = (-b+math.sqrt(delta))/(2*a)\n",
    "    x_2 =  (-b-math.sqrt(delta))/(2*a)\n",
    "    print(f\"x_1={x_1}\\nx_2={x_2}\")\n",
    "elif delta == 0:\n",
    "    x = -b/(2*a)\n",
    "    print(f\"x={x}\")\n",
    "else:\n",
    "    print(\"Phuong trinh vo nghiem\")"
   ]
  },
  {
   "cell_type": "code",
   "execution_count": 5,
   "id": "f5a65836-d845-44ae-8f9d-327473bc44c1",
   "metadata": {},
   "outputs": [
    {
     "name": "stdin",
     "output_type": "stream",
     "text": [
      " 1 2 3 4\n"
     ]
    },
    {
     "name": "stdout",
     "output_type": "stream",
     "text": [
      "4.0\n"
     ]
    }
   ],
   "source": [
    "#Tìm giá trị lớn nhất trong 4 số a, b, c, d (a, b, c, được nhập từ bàn phím).\n",
    "a, b, c, d = map(float, input().split())\n",
    "print(max(a, b, c, d))"
   ]
  },
  {
   "cell_type": "code",
   "execution_count": 6,
   "id": "d2d59bcb-4ef5-4cfd-999d-110b94a0eac0",
   "metadata": {},
   "outputs": [
    {
     "name": "stdin",
     "output_type": "stream",
     "text": [
      " 1 2 3 4\n"
     ]
    },
    {
     "name": "stdout",
     "output_type": "stream",
     "text": [
      "1.0\n"
     ]
    }
   ],
   "source": [
    "#Tìm giá trị nhỏ nhất trong 4 số a, b, c, d (a, b, c, được nhập từ bàn phím).  \n",
    "a, b, c, d = map(float, input().split())\n",
    "print(min(a, b, c, d))"
   ]
  },
  {
   "cell_type": "code",
   "execution_count": 16,
   "id": "ee200fde-b61b-46c9-ade2-2a14c5298473",
   "metadata": {},
   "outputs": [
    {
     "name": "stdin",
     "output_type": "stream",
     "text": [
      " 1 2 3 4 5 6\n"
     ]
    },
    {
     "name": "stdout",
     "output_type": "stream",
     "text": [
      "-1.0\n",
      "2.0\n"
     ]
    }
   ],
   "source": [
    "''' Giải hệ phương trình tuyến tính: \n",
    "ax + by = m \n",
    "cx + dy = n'''\n",
    "a, b, m, c, d, n = list(map(float, input().split()))\n",
    "k = -a/c # tạo hệ số k để có thể triệt tiêu x rồi tìm y\n",
    "y = (m+k*n)/(b+k*d)\n",
    "x = (m-b*y)/a\n",
    "he_so = a/c\n",
    "if b/d == m/n == he_so:\n",
    "    print('He vo so nghiem')\n",
    "elif (a == b == 0 and b != 0) or (c == d == 0 and n != 0):\n",
    "    print('Hẹ co nghiem')\n",
    "else:\n",
    "    print(x, y, sep = '\\n')"
   ]
  },
  {
   "cell_type": "code",
   "execution_count": 22,
   "id": "6f5668ca-5ea7-4c64-b82d-9fb0c954ea06",
   "metadata": {},
   "outputs": [
    {
     "name": "stdin",
     "output_type": "stream",
     "text": [
      " 5600\n"
     ]
    },
    {
     "name": "stdout",
     "output_type": "stream",
     "text": [
      "1:33:20\n"
     ]
    }
   ],
   "source": [
    "''': Nhập vào thời gian 1 công việc nào đó là x giây. Hãy chuyển đổi và viết \n",
    "ra màn hình số thời gian trên dưới dạng bằng bao nhiêu giờ, bao nhiêu phút, bao \n",
    "nhiêu giây.  '''\n",
    "gio_lam = int(input())\n",
    "so_giay = gio_lam - so_phut*60 - so_gio*3600\n",
    "so_gio = gio_lam//3600\n",
    "so_phut = gio_lam//60 - 60*so_gio\n",
    "print(so_gio, so_phut, so_giay, sep = ':')"
   ]
  },
  {
   "cell_type": "code",
   "execution_count": 24,
   "id": "f39cc6ea-d876-4753-a27d-78f27162a876",
   "metadata": {},
   "outputs": [
    {
     "name": "stdin",
     "output_type": "stream",
     "text": [
      " 1 2 3\n",
      " 4 5\n"
     ]
    },
    {
     "name": "stdout",
     "output_type": "stream",
     "text": [
      "A ko thuoc duong tron\n"
     ]
    }
   ],
   "source": [
    "'''Nhập vào tâm và bán kính của một đường tròn. Sau đó nhập vào một \n",
    "điểm A(x, y) bất kì và kiểm tra xem nó có thuộc đường tròn hay không?'''\n",
    "x_0, y_0, r = map(float, input().split()) # dữ kiện\n",
    "x, y = map(float, input().split()) # biến A\n",
    "if (x-x_0)**2 + (y-y_0)**2 == r**2:\n",
    "    print('A thuoc duong tron')\n",
    "else:\n",
    "    print('A ko thuoc duong tron')"
   ]
  },
  {
   "cell_type": "code",
   "execution_count": 27,
   "id": "2f589d8f-a81c-4c02-9889-8c08347a8518",
   "metadata": {},
   "outputs": [
    {
     "name": "stdin",
     "output_type": "stream",
     "text": [
      " 4.7 5.8\n"
     ]
    },
    {
     "name": "stdout",
     "output_type": "stream",
     "text": [
      "7909.84\n"
     ]
    }
   ],
   "source": [
    "#  Tính x**y (Với x, y là số thực). \n",
    "x, y = map(float, input().split())\n",
    "a = x**y\n",
    "print(f'{a:.2f}')"
   ]
  },
  {
   "cell_type": "code",
   "execution_count": null,
   "id": "dc88566f-1a28-4da0-ad7d-cb8a0fc2464b",
   "metadata": {},
   "outputs": [],
   "source": []
  }
 ],
 "metadata": {
  "kernelspec": {
   "display_name": "Python 3 (ipykernel)",
   "language": "python",
   "name": "python3"
  },
  "language_info": {
   "codemirror_mode": {
    "name": "ipython",
    "version": 3
   },
   "file_extension": ".py",
   "mimetype": "text/x-python",
   "name": "python",
   "nbconvert_exporter": "python",
   "pygments_lexer": "ipython3",
   "version": "3.13.7"
  }
 },
 "nbformat": 4,
 "nbformat_minor": 5
}
