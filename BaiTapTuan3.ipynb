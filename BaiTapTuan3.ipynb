{
 "cells": [
  {
   "cell_type": "code",
   "execution_count": 1,
   "id": "a28d49fc-82af-403e-9e1c-ae3d6c64ea4a",
   "metadata": {},
   "outputs": [
    {
     "name": "stdin",
     "output_type": "stream",
     "text": [
      " 4 5\n"
     ]
    },
    {
     "name": "stdout",
     "output_type": "stream",
     "text": [
      "a = 5.0\n",
      "b= 4.0\n"
     ]
    }
   ],
   "source": [
    "'''Hoán đổi hai số không sd biến tạm thời \n",
    "Sử dụng phép toán XOR trên bit để hoán đổi giá trị của hai biến. \n",
    "Đọc và tự tìm hiểu các phép toán trên bit: AND, OR, XOR'''\n",
    "a, b = map(int, input().split())\n",
    "a, b = b, a\n",
    "print(f\"a = {a}\\nb= {b}\")"
   ]
  },
  {
   "cell_type": "code",
   "execution_count": 1,
   "id": "635999fa-21ee-4896-a0d3-9a3f20f8e485",
   "metadata": {},
   "outputs": [
    {
     "name": "stdin",
     "output_type": "stream",
     "text": [
      " 6\n"
     ]
    },
    {
     "name": "stdout",
     "output_type": "stream",
     "text": [
      "6 khong la luy thua cua 2\n"
     ]
    }
   ],
   "source": [
    "'''Kiểm tra xem một số có phải là lũy thừa của 2 hay không \n",
    "Sử dụng các toán tử bitwise để xác định xem một số có phải là lũy thừa của 2 \n",
    "hay không. \n",
    "Gợi ý: Đối với lũy thừa của 2, n & (n-1) == 0 '''\n",
    "a = int(input())\n",
    "if a & (a-1) == 0:\n",
    "    print(f\"{a} la luy thua cua 2\")\n",
    "else:\n",
    "    print(f\"{a} khong la luy thua cua 2\")"
   ]
  },
  {
   "cell_type": "code",
   "execution_count": 3,
   "id": "e9634131-f76f-4c06-aef5-404fb2314822",
   "metadata": {},
   "outputs": [
    {
     "name": "stdin",
     "output_type": "stream",
     "text": [
      " 6 8\n"
     ]
    },
    {
     "name": "stdout",
     "output_type": "stream",
     "text": [
      "0.0\n"
     ]
    }
   ],
   "source": [
    "'''Viêt chương trình chia một số m cho n, kết quả thu được làm tròn xuống '''\n",
    "m, n = map(float, input().split())\n",
    "thuong = m//n\n",
    "print(thuong)"
   ]
  },
  {
   "cell_type": "code",
   "execution_count": 4,
   "id": "19d8fd41-99a5-4827-9472-9ee030ba745d",
   "metadata": {},
   "outputs": [
    {
     "name": "stdin",
     "output_type": "stream",
     "text": [
      " 6 8\n"
     ]
    },
    {
     "name": "stdout",
     "output_type": "stream",
     "text": [
      "1.0\n"
     ]
    }
   ],
   "source": [
    "''' Viêt chương trình chia một số m cho n, kết quả thu được làm tròn lên'''\n",
    "m, n = map(float, input().split())\n",
    "thuong = m//n\n",
    "print(thuong+1)"
   ]
  },
  {
   "cell_type": "code",
   "execution_count": 6,
   "id": "9ddc8412-fe56-4660-b2b3-0a20746c9f12",
   "metadata": {},
   "outputs": [
    {
     "name": "stdin",
     "output_type": "stream",
     "text": [
      " -8\n"
     ]
    },
    {
     "name": "stdout",
     "output_type": "stream",
     "text": [
      "So khong hop le\n"
     ]
    }
   ],
   "source": [
    "'''[Even and Odd]  \n",
    "Nhập vào một số nguyên dương x, bạn hãy kiểm tra xem x là số chẵn hay lẻ. \n",
    "Nếu x là số chẵn, in ra \"Even\". Nếu x là số lẻ, in ra \"Odd\".  '''\n",
    "x = int(input())\n",
    "if x>0:\n",
    "    if x % 2 == 0:\n",
    "        print(\"Even\")\n",
    "    else:\n",
    "        print(\"Odd\")\n",
    "else:\n",
    "    print(\"So khong hop le\")"
   ]
  },
  {
   "cell_type": "code",
   "execution_count": 7,
   "id": "b08be43a-2167-4b16-9479-34922dd2f863",
   "metadata": {},
   "outputs": [
    {
     "name": "stdin",
     "output_type": "stream",
     "text": [
      " 8 -4\n"
     ]
    },
    {
     "name": "stdout",
     "output_type": "stream",
     "text": [
      "......\n"
     ]
    }
   ],
   "source": [
    "'''[Check negative numbers] \n",
    "Nhập vào hai số nguyên a, b. Nếu cả hai số a, b đều âm thì in ra \"Yes\", \n",
    "ngược lại in ra \"No\". '''\n",
    "a, b = map(int, input().split())\n",
    "if a<0 and b<0:\n",
    "    print(\"Yes\")\n",
    "elif a>0 and b>0:\n",
    "    print(\"No\")\n",
    "else:\n",
    "    print(\"......\")"
   ]
  },
  {
   "cell_type": "code",
   "execution_count": 8,
   "id": "dbaf45a3-4a06-407f-ad0b-69f4fc90e615",
   "metadata": {},
   "outputs": [
    {
     "name": "stdin",
     "output_type": "stream",
     "text": [
      " \"jfjefui\" \"7777777\"\n"
     ]
    },
    {
     "name": "stdout",
     "output_type": "stream",
     "text": [
      ".....\n"
     ]
    }
   ],
   "source": [
    "'''[Longer string] \n",
    "Nhập vào hai chuỗi a, b gồm các chữ cái thường. In ra \"True\" nếu chuỗi a \n",
    "dài hơn chuỗi b. Ngược lại in ra \"False\".'''\n",
    "a, b = map(str, input().split())\n",
    "if len(a)>len(b):\n",
    "    print(\"True\")\n",
    "elif len(a)<len(b):\n",
    "    print(\"False\")\n",
    "else:\n",
    "    print(\".....\")"
   ]
  },
  {
   "cell_type": "code",
   "execution_count": null,
   "id": "f74984ad-d095-443c-9f36-8be26aca75b5",
   "metadata": {},
   "outputs": [],
   "source": []
  }
 ],
 "metadata": {
  "kernelspec": {
   "display_name": "Python 3 (ipykernel)",
   "language": "python",
   "name": "python3"
  },
  "language_info": {
   "codemirror_mode": {
    "name": "ipython",
    "version": 3
   },
   "file_extension": ".py",
   "mimetype": "text/x-python",
   "name": "python",
   "nbconvert_exporter": "python",
   "pygments_lexer": "ipython3",
   "version": "3.13.7"
  }
 },
 "nbformat": 4,
 "nbformat_minor": 5
}
