{
 "cells": [
  {
   "cell_type": "code",
   "execution_count": 1,
   "id": "f68789f0-623e-406f-893c-2e3dbba3cace",
   "metadata": {},
   "outputs": [
    {
     "name": "stdout",
     "output_type": "stream",
     "text": [
      "Hello, World\n"
     ]
    }
   ],
   "source": [
    "print(\"Hello, World\")"
   ]
  },
  {
   "cell_type": "code",
   "execution_count": 5,
   "id": "773a83ea-6bb7-4a2d-a4e0-c8d6353f5c4e",
   "metadata": {},
   "outputs": [
    {
     "name": "stdin",
     "output_type": "stream",
     "text": [
      " Minh\n"
     ]
    },
    {
     "name": "stdout",
     "output_type": "stream",
     "text": [
      "Minh\n"
     ]
    }
   ],
   "source": [
    "name = input()\n",
    "print(name)"
   ]
  },
  {
   "cell_type": "code",
   "execution_count": 4,
   "id": "b21c7692-00f9-4eb7-a8a4-1288eae2342e",
   "metadata": {},
   "outputs": [
    {
     "name": "stdin",
     "output_type": "stream",
     "text": [
      " 15 8\n"
     ]
    },
    {
     "name": "stdout",
     "output_type": "stream",
     "text": [
      "23 7 120 1 7 1.88\n"
     ]
    }
   ],
   "source": [
    "a, b = map(int, input().split())\n",
    "addition_1 = a + b\n",
    "subtraction_1 = a - b\n",
    "multiplication_1 = a * b\n",
    "integer_division_1 = a // b\n",
    "mod_1 = a % b\n",
    "division_1 = round(a / b, 2)\n",
    "print(addition_1, subtraction_1, multiplication_1, integer_division_1, mod_1, division_1)"
   ]
  },
  {
   "cell_type": "code",
   "execution_count": 7,
   "id": "c60d65c1-cb54-414e-8241-e4d967156435",
   "metadata": {},
   "outputs": [
    {
     "name": "stdin",
     "output_type": "stream",
     "text": [
      " 8 7 6 5 4 3\n"
     ]
    },
    {
     "name": "stdout",
     "output_type": "stream",
     "text": [
      "4.8\n"
     ]
    }
   ],
   "source": [
    "a1, b1, c1, a2, b2, a3 = map(int, input().split())\n",
    "TB = round(((a1+b1+c1)+(a2+b2)*2+a3*3)/10, 1)\n",
    "print(TB)"
   ]
  },
  {
   "cell_type": "code",
   "execution_count": 9,
   "id": "4844e86e-494f-4630-8819-7d11ec68f60c",
   "metadata": {},
   "outputs": [
    {
     "name": "stdin",
     "output_type": "stream",
     "text": [
      " 3 4\n"
     ]
    },
    {
     "name": "stdout",
     "output_type": "stream",
     "text": [
      "81\n"
     ]
    }
   ],
   "source": [
    "a, b = map(int, input().split())\n",
    "exponentiation = a**b\n",
    "print(exponentiation)"
   ]
  },
  {
   "cell_type": "code",
   "execution_count": 10,
   "id": "2e8421ac-a7a0-4d0a-83a1-d594cfb361ce",
   "metadata": {},
   "outputs": [
    {
     "name": "stdin",
     "output_type": "stream",
     "text": [
      " g\n"
     ]
    },
    {
     "name": "stdout",
     "output_type": "stream",
     "text": [
      "103\n",
      "g\n"
     ]
    }
   ],
   "source": [
    "alphabet = input()\n",
    "print(ord(alphabet))\n",
    "print(chr(ord(alphabet)))"
   ]
  },
  {
   "cell_type": "code",
   "execution_count": 11,
   "id": "f2cc9bc8-25a9-41c6-8e71-96925b7b36ce",
   "metadata": {},
   "outputs": [
    {
     "name": "stdout",
     "output_type": "stream",
     "text": [
      "512\n",
      "512\n"
     ]
    }
   ],
   "source": [
    "A = ((13 ** 2) * 3) + 5\n",
    "B = 13**2*3 + 5 \n",
    "print(A)\n",
    "print(B)"
   ]
  },
  {
   "cell_type": "code",
   "execution_count": 14,
   "id": "fdbb7baa-06c4-4a31-8012-3cc2701fece5",
   "metadata": {},
   "outputs": [
    {
     "name": "stdin",
     "output_type": "stream",
     "text": [
      " 56\n"
     ]
    },
    {
     "name": "stdout",
     "output_type": "stream",
     "text": [
      "132.80\n"
     ]
    }
   ],
   "source": [
    "C = int(input())\n",
    "F = 9/5*C + 32\n",
    "print(f\"{F:.2f}\")"
   ]
  },
  {
   "cell_type": "code",
   "execution_count": 17,
   "id": "f5b87b96-4bf0-4c36-9a5a-fe2db3103398",
   "metadata": {},
   "outputs": [
    {
     "name": "stdin",
     "output_type": "stream",
     "text": [
      " 15 6\n"
     ]
    },
    {
     "name": "stdout",
     "output_type": "stream",
     "text": [
      "0\n"
     ]
    }
   ],
   "source": [
    "a, b = map(int, input().split())\n",
    "units_digit = (a*b)%10\n",
    "print(units_digit)"
   ]
  },
  {
   "cell_type": "code",
   "execution_count": 18,
   "id": "711e5be3-8055-41d9-97c3-5ae9762281db",
   "metadata": {},
   "outputs": [
    {
     "name": "stdin",
     "output_type": "stream",
     "text": [
      " 3 10\n"
     ]
    },
    {
     "name": "stdout",
     "output_type": "stream",
     "text": [
      "a = 10\n",
      "b = 3\n"
     ]
    }
   ],
   "source": [
    "a, b = map(int, input().split())\n",
    "a, b = b, a\n",
    "print(\"a =\", a)\n",
    "print(\"b =\", b)"
   ]
  },
  {
   "cell_type": "code",
   "execution_count": 19,
   "id": "11c06912-bd7b-4f1e-a4d3-74afeec9a83d",
   "metadata": {},
   "outputs": [
    {
     "name": "stdout",
     "output_type": "stream",
     "text": [
      "Spring\n",
      "Summer\n",
      "Autumn\n",
      "Winter\n"
     ]
    }
   ],
   "source": [
    "print(\"Spring\", \"Summer\", \"Autumn\", \"Winter\", sep = \"\\n\")"
   ]
  },
  {
   "cell_type": "code",
   "execution_count": 21,
   "id": "1628b198-6e28-4426-abcd-7dcb26e58e13",
   "metadata": {},
   "outputs": [
    {
     "name": "stdout",
     "output_type": "stream",
     "text": [
      "*\n",
      "***\n",
      "*****\n"
     ]
    }
   ],
   "source": [
    "print('''*\n",
    "***\n",
    "*****''')"
   ]
  },
  {
   "cell_type": "code",
   "execution_count": 23,
   "id": "99ace430-46a3-4b83-8608-6a00797e070c",
   "metadata": {},
   "outputs": [
    {
     "name": "stdout",
     "output_type": "stream",
     "text": [
      "###  ##   ###  ###\n",
      " #   # #   #    #\n",
      " #   ##    #    #\n"
     ]
    }
   ],
   "source": [
    "print('''###  ##   ###  ###\n",
    " #   # #   #    #\n",
    " #   ##    #    #''')"
   ]
  },
  {
   "cell_type": "code",
   "execution_count": 24,
   "id": "e788425e-b5ac-4b7d-856f-3eaff6ca74bf",
   "metadata": {},
   "outputs": [
    {
     "name": "stdout",
     "output_type": "stream",
     "text": [
      "Monday\n",
      "Tuesday\n",
      "Wednesday\n",
      "Thursday\n",
      "Friday\n",
      "Saturday\n",
      "Sunday\n"
     ]
    }
   ],
   "source": [
    "print(\"Monday\\nTuesday\\nWednesday\\nThursday\\nFriday\\nSaturday\\nSunday\" )"
   ]
  },
  {
   "cell_type": "code",
   "execution_count": 26,
   "id": "3f5f483e-cab4-44a4-bad3-487b54dda84d",
   "metadata": {},
   "outputs": [
    {
     "name": "stdout",
     "output_type": "stream",
     "text": [
      "Hello, world \n",
      "Hello, world \n",
      "Hello, world \n",
      "Hello, world \n",
      "Hello, world \n",
      "Hello, world \n",
      "Hello, world \n",
      "Hello, world \n",
      "Hello, world \n",
      "Hello, world\n"
     ]
    }
   ],
   "source": [
    "print('''Hello, world \n",
    "Hello, world \n",
    "Hello, world \n",
    "Hello, world \n",
    "Hello, world \n",
    "Hello, world \n",
    "Hello, world \n",
    "Hello, world \n",
    "Hello, world \n",
    "Hello, world''')"
   ]
  },
  {
   "cell_type": "code",
   "execution_count": null,
   "id": "a51ae238-9479-41e1-b896-1abb6c3fe9aa",
   "metadata": {},
   "outputs": [],
   "source": []
  }
 ],
 "metadata": {
  "kernelspec": {
   "display_name": "Python 3 (ipykernel)",
   "language": "python",
   "name": "python3"
  },
  "language_info": {
   "codemirror_mode": {
    "name": "ipython",
    "version": 3
   },
   "file_extension": ".py",
   "mimetype": "text/x-python",
   "name": "python",
   "nbconvert_exporter": "python",
   "pygments_lexer": "ipython3",
   "version": "3.13.7"
  }
 },
 "nbformat": 4,
 "nbformat_minor": 5
}
